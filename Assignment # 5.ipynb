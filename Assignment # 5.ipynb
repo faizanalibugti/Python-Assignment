{
 "cells": [
  {
   "cell_type": "markdown",
   "metadata": {},
   "source": [
    "# Enrollment Number: SMIT/19/PY/B2/01017\n",
    "# Roll Number: PYON-0213\n",
    "# Name: Faizan Ali Bugti\n",
    "# Email: faizanalibugti@outlook.com"
   ]
  },
  {
   "cell_type": "markdown",
   "metadata": {},
   "source": [
    "# Python Programming Language\n",
    "Assignment # 5"
   ]
  },
  {
   "cell_type": "markdown",
   "metadata": {},
   "source": [
    "Q Write a Python function to calculate the factorial of a number (a non-negative\n",
    "integer). The function accepts the number as an argument."
   ]
  },
  {
   "cell_type": "code",
   "execution_count": 10,
   "metadata": {},
   "outputs": [
    {
     "name": "stdout",
     "output_type": "stream",
     "text": [
      "Enter a number for factorial: 5\n",
      "The factorial of 5 is 120\n"
     ]
    }
   ],
   "source": [
    "def factorial(number):\n",
    "    factorial = 1\n",
    "    if number < 0:\n",
    "        print(\"Factorial does not exist for negative numbers\")\n",
    "    elif number == 0:\n",
    "        print(\"The factorial of 0 is 1\")\n",
    "    else:\n",
    "        for i in range(1, number + 1):\n",
    "            factorial = factorial*i\n",
    "        print(\"The factorial of\",number,\"is\",factorial)\n",
    "\n",
    "number = int(input(\"Enter a number for factorial: \"))\n",
    "factorial(number)"
   ]
  },
  {
   "cell_type": "markdown",
   "metadata": {},
   "source": [
    "Q Write a Python function that accepts a string and calculate the number of upper\n",
    "case letters and lower case letters."
   ]
  },
  {
   "cell_type": "code",
   "execution_count": 19,
   "metadata": {},
   "outputs": [
    {
     "name": "stdout",
     "output_type": "stream",
     "text": [
      "Enter a string: Faizan Ali Bugti\n",
      "Number of upper case letters in string are 3\n",
      "Number of lower case letters in string are 11\n"
     ]
    }
   ],
   "source": [
    "def string(string):\n",
    "    uppercount= 0\n",
    "    lowercount = 0\n",
    "    for letter in string:\n",
    "        if letter.isupper():\n",
    "            uppercount = uppercount + 1\n",
    "        if letter.islower():\n",
    "            lowercount = lowercount + 1\n",
    "    return uppercount, lowercount\n",
    "\n",
    "letter = input(\"Enter a string: \")\n",
    "uppercount, lowercount = string(letter)\n",
    "print(\"Number of upper case letters in string are \" + str(uppercount))\n",
    "print(\"Number of lower case letters in string are \" + str(lowercount))"
   ]
  },
  {
   "cell_type": "markdown",
   "metadata": {},
   "source": [
    "Q Write a Python function to print the even numbers from a given list."
   ]
  },
  {
   "cell_type": "code",
   "execution_count": 23,
   "metadata": {},
   "outputs": [
    {
     "name": "stdout",
     "output_type": "stream",
     "text": [
      "2\n",
      "4\n",
      "6\n",
      "8\n"
     ]
    }
   ],
   "source": [
    "def even(numbers):\n",
    "    for x in numbers:\n",
    "        if type(x) == str:\n",
    "            continue\n",
    "        elif x % 2 == 0:\n",
    "            print(x)\n",
    "        else:\n",
    "            continue\n",
    "        \n",
    "numbers = [2, \"fa\", 3, 4, 5, 6, 7, 7, 8]\n",
    "even(numbers)"
   ]
  },
  {
   "cell_type": "markdown",
   "metadata": {},
   "source": [
    "Q Write a Python function that checks whether a passed string is palindrome or not.\n",
    "Note: A palindrome is a word, phrase, or sequence that reads the same\n",
    "backward as forward, e.g., madam"
   ]
  },
  {
   "cell_type": "code",
   "execution_count": 28,
   "metadata": {},
   "outputs": [
    {
     "name": "stdout",
     "output_type": "stream",
     "text": [
      "Enter a string to check whether it is a palindrome or not: MaDam\n",
      "madam is a palindrome\n"
     ]
    }
   ],
   "source": [
    "def palindrome(string):\n",
    "    string = string.lower()\n",
    "    if string == string[::-1]:\n",
    "        print(string + \" is a palindrome\")\n",
    "    else:\n",
    "        print(string + \" is not a palindrome\")\n",
    "\n",
    "string = input(\"Enter a string to check whether it is a palindrome or not: \")\n",
    "palindrome(string)"
   ]
  },
  {
   "cell_type": "markdown",
   "metadata": {},
   "source": [
    "Q Write a Python function that takes a number as a parameter and check the\n",
    "number is prime or not."
   ]
  },
  {
   "cell_type": "code",
   "execution_count": 49,
   "metadata": {},
   "outputs": [
    {
     "name": "stdout",
     "output_type": "stream",
     "text": [
      "Enter a number to check whether its a prime number or not: 9\n",
      "9 is not a prime number\n"
     ]
    }
   ],
   "source": [
    "def prime(number):\n",
    "    for i in range(2, number):\n",
    "        if (number % i) == 0:\n",
    "            print(number, \"is not a prime number\")\n",
    "            break\n",
    "    else:\n",
    "        print(number, \"is a prime number\")\n",
    "\n",
    "number = int(input(\"Enter a number to check whether its a prime number or not: \"))\n",
    "prime(number)"
   ]
  },
  {
   "cell_type": "markdown",
   "metadata": {},
   "source": [
    "Q Suppose a customer is shopping in a market and you need to print all the items\n",
    "which user bought from market.\n",
    "Write a function which accepts the multiple arguments of user shopping list and\n",
    "print all the items which user bought from market.\n",
    "(Hint: Arbitrary Argument concept can make this task ease)"
   ]
  },
  {
   "cell_type": "code",
   "execution_count": 9,
   "metadata": {},
   "outputs": [
    {
     "name": "stdout",
     "output_type": "stream",
     "text": [
      "Enter item for shopping list (enter Done to exit): Milk\n",
      "Enter item for shopping list (enter Done to exit): butter\n",
      "Enter item for shopping list (enter Done to exit): soap\n",
      "Enter item for shopping list (enter Done to exit): Done\n",
      "\n",
      "Items you bought are:  [({1: 'Milk', 2: 'Butter', 3: 'Soap'},)]\n"
     ]
    }
   ],
   "source": [
    "def items(*arg):\n",
    "    list1=[]\n",
    "    list1.append(arg)\n",
    "    return list1\n",
    "\n",
    "shopping_list = {}\n",
    "a = \"\"\n",
    "count = 0\n",
    "while True:\n",
    "    count = count + 1\n",
    "    a = input(\"Enter item for shopping list (enter Done to exit): \").title()\n",
    "    if a == 'Done':\n",
    "        break \n",
    "    else:\n",
    "        shopping_list[count] = a\n",
    "        \n",
    "\n",
    "b = items(shopping_list)\n",
    "print('\\nItems you bought are: ',b)"
   ]
  }
 ],
 "metadata": {
  "kernelspec": {
   "display_name": "Python 3",
   "language": "python",
   "name": "python3"
  },
  "language_info": {
   "codemirror_mode": {
    "name": "ipython",
    "version": 3
   },
   "file_extension": ".py",
   "mimetype": "text/x-python",
   "name": "python",
   "nbconvert_exporter": "python",
   "pygments_lexer": "ipython3",
   "version": "3.7.1"
  }
 },
 "nbformat": 4,
 "nbformat_minor": 2
}
