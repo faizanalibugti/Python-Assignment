{
 "cells": [
  {
   "cell_type": "markdown",
   "metadata": {},
   "source": [
    "# Enrollment Number: SMIT/19/PY/B2/01017\n",
    "# Roll Number: PYON-0213\n",
    "# Name: Faizan Ali Bugti\n",
    "# Email: faizanalibugti@outlook.com\n"
   ]
  },
  {
   "cell_type": "markdown",
   "metadata": {},
   "source": [
    "# Python Programming Language\n",
    "Assignment # 4"
   ]
  },
  {
   "cell_type": "markdown",
   "metadata": {},
   "source": [
    "Q Use a dictionary to store information about a person you know. Store their first name, last name, age, and the city in which they live. You should have keys such as first_name, last_name, age, and city. Print each piece of information stored in your dictionary. Add a new key value pair about qualification then update the qualification value to high academic level then delete it."
   ]
  },
  {
   "cell_type": "code",
   "execution_count": 1,
   "metadata": {},
   "outputs": [
    {
     "name": "stdout",
     "output_type": "stream",
     "text": [
      "First Name: Moiz\n",
      "Last Name: Raza\n",
      "Age: 22\n",
      "City: Lahore\n",
      "{'first_name': 'Moiz', 'last_name': 'Raza', 'age': '22', 'city': 'Lahore', 'qualification': 'high academic level'}\n",
      "{'first_name': 'Moiz', 'last_name': 'Raza', 'age': '22', 'city': 'Lahore'}\n"
     ]
    }
   ],
   "source": [
    "dict = {'first_name': 'Moiz', 'last_name': 'Raza', 'age': '22', 'city': 'Lahore'}\n",
    "print(\"First Name:\", dict[\"first_name\"])\n",
    "print(\"Last Name:\", dict[\"last_name\"])\n",
    "print(\"Age:\", dict[\"age\"])\n",
    "print(\"City:\", dict[\"city\"])\n",
    "dict[\"qualification\"] = \"high academic level\"\n",
    "print(dict)\n",
    "del dict[\"qualification\"]\n",
    "print(dict)"
   ]
  },
  {
   "cell_type": "markdown",
   "metadata": {},
   "source": [
    "Q Make a dictionary called cities. Use the names of three cities as keys in your dictionary. Create a dictionary of information about each city and include the country that the city is in, its approximate population, and one fact about that city. The keys for each city’s dictionary should be something like country, population, and fact. Print the name of each city and all of the information you have stored about it."
   ]
  },
  {
   "cell_type": "code",
   "execution_count": 5,
   "metadata": {},
   "outputs": [
    {
     "name": "stdout",
     "output_type": "stream",
     "text": [
      "Karachi\n",
      "Pakistan\n",
      "14910000\n",
      "It is known as the city of lights\n",
      "London\n",
      "UK\n",
      "8900000\n",
      "The London Eye observation wheel provides panoramic views of the entire city\n",
      "Washington DC\n",
      "USA\n",
      "633427\n",
      "With more than 3,000 glaciers, Washington is the most glaciated state in the U.S\n"
     ]
    }
   ],
   "source": [
    "cities = {\n",
    "    'Karachi': {\n",
    "        'Country': 'Pakistan',\n",
    "        'Population': 14910000,\n",
    "        'Fact': 'It is known as the city of lights',\n",
    "    }, \n",
    "    'London': {\n",
    "        'Country': 'UK',\n",
    "        'Population': 8900000,\n",
    "        'Fact': 'The London Eye observation wheel provides panoramic views of the entire city',\n",
    "    }, \n",
    "    'Washington DC': {\n",
    "        'Country': 'USA',\n",
    "        'Population': 633427,\n",
    "        'Fact': 'With more than 3,000 glaciers, Washington is the most glaciated state in the U.S',\n",
    "    }\n",
    "}\n",
    "\n",
    "for city,values in cities.items():\n",
    "    print(city)\n",
    "    for value in values.values():\n",
    "        print(value)"
   ]
  },
  {
   "cell_type": "markdown",
   "metadata": {},
   "source": [
    "Q A movie theater charges different ticket prices depending on a person’s age. If a person is under the age of 3, the ticket is free, if they are between 3 and 12, the ticket is 10 dollars, and if they are over age 12, the ticket is $15. Write a loop in which you ask users their age, and then tell them the cost of their movie ticket."
   ]
  },
  {
   "cell_type": "code",
   "execution_count": null,
   "metadata": {},
   "outputs": [
    {
     "name": "stdout",
     "output_type": "stream",
     "text": [
      "Enter age: 2\n",
      "Cost of movie ticket is: $ 0\n",
      "Enter age: 12\n",
      "Cost of movie ticket is: $ 10\n",
      "Enter age: 16\n",
      "Cost of movie ticket is: $ 15\n"
     ]
    }
   ],
   "source": [
    "while True:\n",
    "    age = int(input('Enter age: '))\n",
    "    if age < 3:\n",
    "        cost = 0\n",
    "    elif age >= 3 and age <= 12:\n",
    "        cost =  10\n",
    "    elif age > 12:\n",
    "        cost = 15\n",
    "    print(\"Cost of movie ticket is: $\", cost)"
   ]
  },
  {
   "cell_type": "markdown",
   "metadata": {},
   "source": [
    "Q Write a function called favorite_book() that accepts one parameter, title. The function should print a message, such as One of my favorite books is Alice in Wonderland. Call the function, making sure to include a book title as an argument in the function call."
   ]
  },
  {
   "cell_type": "code",
   "execution_count": 3,
   "metadata": {},
   "outputs": [
    {
     "name": "stdout",
     "output_type": "stream",
     "text": [
      "Enter title of book: Alice in Wonderland\n",
      "One of my favorite books is Alice in Wonderland\n"
     ]
    }
   ],
   "source": [
    "def favorite_book(title):\n",
    "    print(\"One of my favorite books is \" + title)\n",
    "       \n",
    "title = input(\"Enter title of book: \")\n",
    "favorite_book(title)"
   ]
  },
  {
   "cell_type": "markdown",
   "metadata": {},
   "source": [
    "Q Guess the number game\n",
    "Write a program which randomly generate a number between 1 to 30 and ask the user in input field to guess the correct number. Give three chances to user guess the number and also give hint to user if hidden number is greater or smaller than the number he given to input field.\n"
   ]
  },
  {
   "cell_type": "code",
   "execution_count": 4,
   "metadata": {},
   "outputs": [
    {
     "name": "stdout",
     "output_type": "stream",
     "text": [
      "You have 3 chances to guess the hidden number\n",
      "Enter a number between 1 and 30: 20\n",
      "The hidden number is smaller than  20\n",
      "Enter a number between 1 and 30: 15\n",
      "The hidden number is greater than  15\n",
      "Enter a number between 1 and 30: 18\n",
      "You have guessed the correct number\n"
     ]
    }
   ],
   "source": [
    "import random\n",
    "x = random.randint(1, 30)\n",
    "print(\"You have 3 chances to guess the hidden number\")\n",
    "for index in range(3):\n",
    "    guess = int(input(\"Enter a number between 1 and 30: \"))\n",
    "    if x > guess:\n",
    "        print(\"The hidden number is greater than \", guess)\n",
    "    elif x < guess:\n",
    "        print(\"The hidden number is smaller than \", guess)\n",
    "    elif x == guess:\n",
    "        print(\"You have guessed the correct number\")\n",
    "        break"
   ]
  }
 ],
 "metadata": {
  "kernelspec": {
   "display_name": "Python 3",
   "language": "python",
   "name": "python3"
  },
  "language_info": {
   "codemirror_mode": {
    "name": "ipython",
    "version": 3
   },
   "file_extension": ".py",
   "mimetype": "text/x-python",
   "name": "python",
   "nbconvert_exporter": "python",
   "pygments_lexer": "ipython3",
   "version": "3.7.1"
  }
 },
 "nbformat": 4,
 "nbformat_minor": 2
}
