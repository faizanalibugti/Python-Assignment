{
 "cells": [
  {
   "cell_type": "markdown",
   "metadata": {},
   "source": [
    "# Enrollment Number: SMIT/19/PY/B2/01017\n",
    "# Roll Number: PY01017\n",
    "# Name: Faizan Ali Bugti"
   ]
  },
  {
   "cell_type": "markdown",
   "metadata": {},
   "source": [
    "# Python Programming Language\n",
    "Assignment # 3"
   ]
  },
  {
   "cell_type": "markdown",
   "metadata": {},
   "source": [
    "Q. Make a calculator using Python with addition , subtraction , multiplication , division and power."
   ]
  },
  {
   "cell_type": "code",
   "execution_count": 6,
   "metadata": {},
   "outputs": [
    {
     "name": "stdout",
     "output_type": "stream",
     "text": [
      "Enter 1st number: 4\n",
      "Enter operator: **\n",
      "Enter 2nd number: 2\n",
      "Answer is:  16\n"
     ]
    }
   ],
   "source": [
    "first_number = int(input(\"Enter 1st number: \"))\n",
    "operator = input(\"Enter operator: \")\n",
    "second_number = int(input(\"Enter 2nd number: \"))\n",
    "if operator == '+':\n",
    "    print(\"Answer is: \", first_number + second_number)\n",
    "elif operator == '-':\n",
    "    print(\"Answer is: \", first_number - second_number)\n",
    "elif operator == '*':\n",
    "    print(\"Answer is: \", first_number * second_number)\n",
    "elif operator == '/':\n",
    "    print(\"Answer is: \", first_number / second_number)\n",
    "elif operator == '**':\n",
    "    print(\"Answer is: \", first_number ** second_number)\n",
    "else:\n",
    "    print(\"Syntax Error\")\n"
   ]
  },
  {
   "cell_type": "markdown",
   "metadata": {},
   "source": [
    "Q Write a program to check if there is any numeric value in list using for loop"
   ]
  },
  {
   "cell_type": "code",
   "execution_count": 7,
   "metadata": {},
   "outputs": [
    {
     "name": "stdout",
     "output_type": "stream",
     "text": [
      "2.2\n",
      "3\n",
      "7\n"
     ]
    }
   ],
   "source": [
    "list = [2.2, 3, 'a', 7, 'b']\n",
    "for x in list:\n",
    "    if type(x) == int or type(x) == float:\n",
    "        print (x)"
   ]
  },
  {
   "cell_type": "markdown",
   "metadata": {},
   "source": [
    "Q Write a Python script to add a key to a dictionary"
   ]
  },
  {
   "cell_type": "code",
   "execution_count": 8,
   "metadata": {},
   "outputs": [
    {
     "name": "stdout",
     "output_type": "stream",
     "text": [
      "{0: 10, 1: 20}\n",
      "{0: 10, 1: 20, 2: 30}\n"
     ]
    }
   ],
   "source": [
    "dictionary = {0:10, 1:20}\n",
    "print(dictionary)\n",
    "dictionary.update({2:30})\n",
    "print(dictionary)"
   ]
  },
  {
   "cell_type": "markdown",
   "metadata": {},
   "source": [
    "Q Write a Python program to sum all the numeric items in a dictionary"
   ]
  },
  {
   "cell_type": "code",
   "execution_count": 9,
   "metadata": {},
   "outputs": [
    {
     "name": "stdout",
     "output_type": "stream",
     "text": [
      "600\n"
     ]
    }
   ],
   "source": [
    "dict = {'a': 100, 'b':200, 'c':300, 'd':'f'} \n",
    "sum = 0\n",
    "for i in dict:\n",
    "    if type(dict[i]) == int or type(dict[i]) == float:\n",
    "        sum = sum + dict[i]\n",
    "print(sum) "
   ]
  },
  {
   "cell_type": "markdown",
   "metadata": {},
   "source": [
    "Q Write a program to identify duplicate values from list"
   ]
  },
  {
   "cell_type": "code",
   "execution_count": 10,
   "metadata": {},
   "outputs": [
    {
     "name": "stdout",
     "output_type": "stream",
     "text": [
      "[3, 9, 12]\n"
     ]
    }
   ],
   "source": [
    "list = [ 3, 6, 9, 12, 3, 30, 15, 9, 45, 36, 12, 12]\n",
    "dupItems = []\n",
    "uniqItems = {}\n",
    "for x in list:\n",
    "    if x not in uniqItems:\n",
    "        uniqItems[x] = 1\n",
    "    else:\n",
    "        if uniqItems[x] == 1:\n",
    "            dupItems.append(x)\n",
    "            uniqItems[x] += 1\n",
    "print(dupItems)"
   ]
  },
  {
   "cell_type": "markdown",
   "metadata": {},
   "source": [
    "Q Write a Python script to check if a given key already exists in a dictionary"
   ]
  },
  {
   "cell_type": "code",
   "execution_count": 2,
   "metadata": {},
   "outputs": [
    {
     "name": "stdout",
     "output_type": "stream",
     "text": [
      "Enter key to check in dictionary: 4\n",
      "Key is present in the dictionary\n"
     ]
    }
   ],
   "source": [
    "d = {1: 10, 2: 20, 3: 30, 4: 40, 5: 50, 6: 60}\n",
    "x = int(input(\"Enter key to check in dictionary: \"))\n",
    "if x in d:\n",
    "      print('Key is present in the dictionary')\n",
    "else:\n",
    "      print('Key is not present in the dictionary')"
   ]
  }
 ],
 "metadata": {
  "kernelspec": {
   "display_name": "Python 3",
   "language": "python",
   "name": "python3"
  },
  "language_info": {
   "codemirror_mode": {
    "name": "ipython",
    "version": 3
   },
   "file_extension": ".py",
   "mimetype": "text/x-python",
   "name": "python",
   "nbconvert_exporter": "python",
   "pygments_lexer": "ipython3",
   "version": "3.7.1"
  }
 },
 "nbformat": 4,
 "nbformat_minor": 2
}
