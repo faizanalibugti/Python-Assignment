{
 "cells": [
  {
   "cell_type": "markdown",
   "metadata": {},
   "source": [
    "# Enrollment Number: SMIT/19/PY/B2/01017\n",
    "# Roll Number: PYON-0213\n",
    "# Name: Faizan Ali Bugti\n",
    "# Email: faizanalibugti@outlook.com"
   ]
  },
  {
   "cell_type": "markdown",
   "metadata": {},
   "source": [
    "# Python Programming Language\n",
    "Assignment # 6"
   ]
  },
  {
   "cell_type": "markdown",
   "metadata": {},
   "source": [
    "# Question 1:\n",
    "Define Object Oriented Programming Language?\n",
    "\n",
    "# Answer:\n",
    "Object-oriented programming is a programming paradigm based on the concept of \"objects\", which can contain data, in the form of fields, and code, in the form of procedures. A feature of objects is an object's procedures that can access and often modify the data fields of the object with which they are associated."
   ]
  },
  {
   "cell_type": "markdown",
   "metadata": {},
   "source": [
    "# Question 2:\n",
    "List down the Benefits of OOP?\n",
    "\n",
    "# Answer:\n",
    "It provides a clear modular structure for programs which makes it good for defining abstract datatypes in which implementation details are hidden\n",
    "\n",
    "Objects can also be reused within an across applications. The reuse of software also lowers the cost of development. More effort is put into the object-oriented analysis and design, which lowers the overall cost of development.\n",
    "\n",
    "It makes software easier to maintain. Since the design is modular, part of the system can be updated in case of issues without a need to make large-scale changes\n",
    "\n",
    "Reuse also enables faster development. Object-oriented programming languages come with rich libraries of objects, and code developed during projects is also reusable in future projects.\n",
    "\n",
    "It provides a good framework for code libraries where the supplied software components can be easily adapted and modified by the programmer. This is particularly useful for developing graphical user interfaces.\n",
    "\n",
    "Better Productivity as OOP techniques enforce rules on a programmer that, in the long run, help her get more work done; finished programs work better, have more features and are easier to read and maintain. OOP programmers take new and existing software objects and \"stitch\" them together to make new programs. Because object libraries contain many useful functions, software developers don't have to reinvent the wheel as often; more of their time goes into making the new program.\n"
   ]
  },
  {
   "cell_type": "markdown",
   "metadata": {},
   "source": [
    "# Question 3:\n",
    "Differentiate between function and method?\n",
    "\n",
    "# Answer:\n",
    "Functions that are globally defined in python using def syntax are functions which have some procedural instructions, whereas functions which are defined within a class of python are called Models."
   ]
  },
  {
   "cell_type": "markdown",
   "metadata": {},
   "source": [
    "# Question 4:\n",
    "Define the following terms:\n",
    "1. Class\n",
    "2. Object\n",
    "3. Attribute\n",
    "4. Behavior\n",
    "\n",
    "# Answer:\n",
    "Class: Class is a blueprint for creating objects (a particular data structure).\n",
    "\n",
    "Object: An object is nothing but a self-contained component which consists of methods and properties to make a particular type of data useful. Object determines the behavior of the class. When you send a message to an object, you are asking the object to invoke or execute one of its methods.\n",
    "\n",
    "Attribute: Attributes are those values for which object would be working at.\n",
    "\n",
    "Behavior: A class's behavior determines how an instance of that class operates"
   ]
  },
  {
   "cell_type": "markdown",
   "metadata": {},
   "source": [
    "# Question 5:\n",
    "Write a code in python in which create a class named it Car which have 5 attributes such like (model, color and name etc.) and 3 methods. And create 5 object instance from that class."
   ]
  },
  {
   "cell_type": "code",
   "execution_count": 1,
   "metadata": {},
   "outputs": [
    {
     "name": "stdout",
     "output_type": "stream",
     "text": [
      "******Car 1 details*******\n",
      "\n",
      "Name of Car is: Honda Civic\n",
      "Top Speed of Car is: 220\n",
      "Model Year of Car is: 2014\n",
      "Color of Car is: Black\n",
      "Engine of Car is: 1300CC\n",
      "\n",
      "\n",
      "******Car 2 details*******\n",
      "\n",
      "Name of Car is: Toyota Corolla\n",
      "Top Speed of Car is: 200\n",
      "Model Year of Car is: 2012\n",
      "Color of Car is: Gray\n",
      "Engine of Car is: 1300CC\n",
      "\n",
      "\n",
      "Old Name: Honda Civic\n",
      "New Name: Honda City\n",
      "\n",
      "\n",
      "Old Color of Car2: Gray\n",
      "New Color of Car2: Blue\n",
      "\n",
      "\n",
      "Old Top speed of Car1 is: 220\n",
      "New Top speed of Car1 is: 240\n"
     ]
    }
   ],
   "source": [
    "class Car():    \n",
    "    def __init__(self,CarName,TopSpeed,Model,Color,Engine):\n",
    "        #5 attributes\n",
    "        self.CarName=CarName\n",
    "        self.TopSpeed=TopSpeed\n",
    "        self.Model=Model\n",
    "        self.Color=Color\n",
    "        self.Engine=Engine \n",
    "    #Method 1\n",
    "    def updateCarName(self,NewName):\n",
    "        self.CarName=NewName\n",
    "    #Method 2\n",
    "    def updateColor(self,NewColor):\n",
    "        self.Color=NewColor\n",
    "    #Method 3\n",
    "    def updateSpeed(self,NewTopSpeed):\n",
    "        self.TopSpeed+=NewTopSpeed\n",
    "\n",
    "#instance 1\n",
    "Car1=Car('Honda Civic',220,2014,'Black','1300CC')\n",
    "#instance 2\n",
    "Car2=Car('Toyota Corolla',200,2012,'Gray','1300CC')\n",
    "print('******Car 1 details*******\\n')\n",
    "print('Name of Car is:',Car1.CarName)\n",
    "print('Top Speed of Car is:',Car1.TopSpeed)\n",
    "print('Model Year of Car is:',Car1.Model)\n",
    "print('Color of Car is:',Car1.Color)\n",
    "print('Engine of Car is:',Car1.Engine)\n",
    "print('\\n')\n",
    "print('******Car 2 details*******\\n')\n",
    "print('Name of Car is:',Car2.CarName)\n",
    "print('Top Speed of Car is:',Car2.TopSpeed)\n",
    "print('Model Year of Car is:',Car2.Model)\n",
    "print('Color of Car is:',Car2.Color)\n",
    "print('Engine of Car is:',Car2.Engine)\n",
    "print('\\n')\n",
    "print('Old Name:',Car1.CarName)\n",
    "#instance 3\n",
    "Car1.updateCarName('Honda City')\n",
    "print('New Name:',Car1.CarName)\n",
    "print('\\n')\n",
    "print('Old Color of Car2:',Car2.Color)\n",
    "#instance 4\n",
    "Car2.updateColor('Blue')\n",
    "print('New Color of Car2:',Car2.Color)\n",
    "print('\\n')\n",
    "print('Old Top speed of Car1 is:',Car1.TopSpeed)\n",
    "#instance 5\n",
    "Car1.updateSpeed(20)\n",
    "print('New Top speed of Car1 is:',Car1.TopSpeed)\n"
   ]
  }
 ],
 "metadata": {
  "kernelspec": {
   "display_name": "Python 3",
   "language": "python",
   "name": "python3"
  },
  "language_info": {
   "codemirror_mode": {
    "name": "ipython",
    "version": 3
   },
   "file_extension": ".py",
   "mimetype": "text/x-python",
   "name": "python",
   "nbconvert_exporter": "python",
   "pygments_lexer": "ipython3",
   "version": "3.7.1"
  }
 },
 "nbformat": 4,
 "nbformat_minor": 2
}
